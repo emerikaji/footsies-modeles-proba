{
 "cells": [
  {
   "cell_type": "markdown",
   "metadata": {},
   "source": [
    "# Footsies\n",
    "\n",
    "This notebook implements different algorithms as player types for a simple adversarial turn-based game inspired by the fighting game Footsies.\n",
    "\n",
    "The game is implemented in text-based form in the `game.py` file. Players are defined by an abstract class, and all contain an `act()` method that takes as input the current state of the game and outputs a Move."
   ]
  },
  {
   "cell_type": "code",
   "execution_count": null,
   "metadata": {},
   "outputs": [],
   "source": [
    "import math\n",
    "import random\n",
    "import numpy as np\n",
    "from game import Move, State, Player, MoveSelection, Footsies"
   ]
  },
  {
   "cell_type": "markdown",
   "metadata": {},
   "source": [
    "## Manual player\n",
    "\n",
    "First, we define a player type that can be controlled through keyboard input. It also informs the human player of the state of the game in a more detailed way ; Later algorithms are provided the same information."
   ]
  },
  {
   "cell_type": "code",
   "execution_count": null,
   "metadata": {},
   "outputs": [],
   "source": [
    "class ManualPlayer(Player):\n",
    "    name = \"\"\n",
    "    def __init__(self, name: str = \"Manuel\"):\n",
    "        self.name = name\n",
    "    \n",
    "    def act(self, game_state: State) -> Move:\n",
    "        print(f\"Your turn, {self.name}!{f' {game_state.turns_left} turns left.' if game_state.turns_left > -1 else ''}\")\n",
    "        print(f\"You have {game_state.own_blocks} blocks left{' and have landed an attack' if game_state.own_has_attack else ''}.\")\n",
    "        print(f\"Your opponent has {game_state.other_blocks} blocks left{' and has landed an attack' if game_state.other_has_attack else ''}.\")\n",
    "        \n",
    "        move_str = \"\"\n",
    "        while move_str not in MoveSelection:\n",
    "            move_str = input(\"Choose your move: \")\n",
    "\n",
    "        return MoveSelection[move_str]"
   ]
  },
  {
   "cell_type": "markdown",
   "metadata": {},
   "source": [
    "## Random player\n",
    "\n",
    "As a test, and as a way to measure the effectiveness of the different algorithms, we implement a class that selects a move at random."
   ]
  },
  {
   "cell_type": "code",
   "execution_count": null,
   "metadata": {},
   "outputs": [],
   "source": [
    "class RandomPlayer(Player):\n",
    "    name = \"The Chaotic\"\n",
    "\n",
    "    def act(self, game_state: State) -> Move:\n",
    "        return random.choice(list(MoveSelection.values()))"
   ]
  },
  {
   "cell_type": "markdown",
   "metadata": {},
   "source": [
    "## Simple counter strategy\n",
    "\n",
    "Since some specific decisions in the game states are definite wins or losses, we can create a simple algorithm that avoids these bad decisions at all costs, at the risk of predictability."
   ]
  },
  {
   "cell_type": "code",
   "execution_count": null,
   "metadata": {},
   "outputs": [],
   "source": [
    "class CounterPlayer(Player):\n",
    "    name = \"The Simple-Minded\"\n",
    "\n",
    "    def act(self, game_state: State) -> Move:\n",
    "        if game_state.other_has_attack:\n",
    "            print(\"b\")\n",
    "            return MoveSelection[\"b\"]  # Always block if the opponent has attack power\n",
    "        \n",
    "        if game_state.other_blocks == 0:\n",
    "            print(\"a\")\n",
    "            return MoveSelection[\"a\"]  # If they can't block, attack them\n",
    "        \n",
    "        if game_state.other_previous_move == None:\n",
    "            return MoveSelection[\"b\"] # Block to stay safe on the first turn\n",
    "\n",
    "        if game_state.other_previous_move == MoveSelection[\"a\"]:\n",
    "            return MoveSelection[\"b\"]  # If they attacked last, block\n",
    "        if game_state.other_previous_move == MoveSelection[\"b\"]:\n",
    "            return MoveSelection[\"g\"]  # If they blocked last, grab\n",
    "        if game_state.other_previous_move == MoveSelection[\"g\"]:\n",
    "            return MoveSelection[\"a\"]  # If they grabbed last, attack\n",
    "    \n",
    "        return MoveSelection[\"b\"]"
   ]
  },
  {
   "cell_type": "markdown",
   "metadata": {},
   "source": [
    "# Alternative counter strategy\n",
    "\n",
    "Beyond reacting to the last move, we can introduce some randomness and risk factor based on a short form of history."
   ]
  },
  {
   "cell_type": "code",
   "execution_count": null,
   "metadata": {},
   "outputs": [],
   "source": [
    "import random\n",
    "\n",
    "class BluffMaster(Player):\n",
    "    name = \"The High Roller\"\n",
    "\n",
    "    def __init__(self, bluff: float = 0.2):\n",
    "        self.bluff_frequency = bluff\n",
    "        self.enemy_tendency = 0 # becomes positive if agressive, negative if passive\n",
    "    \n",
    "    def act(self, game_state: State) -> Move:\n",
    "        # Sometimes, pick a random move.\n",
    "        if game_state.other_previous_move is not None:\n",
    "            if game_state.other_previous_move != MoveSelection[\"b\"]:\n",
    "                self.enemy_tendency += 1\n",
    "            else:\n",
    "                self.enemy_tendency -= 1\n",
    "        \n",
    "        if random.random() < self.bluff_frequency:\n",
    "            chosen_move = random.choice(list(MoveSelection.values()))\n",
    "            return chosen_move\n",
    "\n",
    "        if self.enemy_tendency > 1:\n",
    "            return MoveSelection[\"b\"]\n",
    "        if self.enemy_tendency < 1:\n",
    "            return MoveSelection[\"a\"]\n",
    "        \n",
    "        # Otherwise, try to setup for a future move.\n",
    "        print(f\"{self.name} chooses to Grab to set up an attack.\")\n",
    "        return MoveSelection[\"g\"]"
   ]
  },
  {
   "cell_type": "markdown",
   "metadata": {},
   "source": [
    "# Markov Chain\n",
    "\n",
    "We can approach this game from the perspective of Markov chains, where the states are the moves, and we can calculate compound probabilities for each sequence of moves from the opponent."
   ]
  },
  {
   "cell_type": "code",
   "execution_count": null,
   "metadata": {},
   "outputs": [],
   "source": [
    "import random\n",
    "from collections import defaultdict\n",
    "\n",
    "class MarkovChainPlayer(Player):\n",
    "    name = \"MarkovChain\"\n",
    "    \n",
    "    def __init__(self, risk: float = 0.2):\n",
    "        # Use a nested dictionary to track transition counts\n",
    "        # For example: transitions[from_move][to_move] = count\n",
    "        self.transitions = defaultdict(lambda: defaultdict(int))\n",
    "        self.last_opponent_move = None\n",
    "        self.risk = risk # introduce a risk factor to sometimes throw in dps in winning situations.\n",
    "    \n",
    "    def act(self, game_state: State) -> Move:\n",
    "        fallback_choice = random.choice([MoveSelection[\"a\"], MoveSelection[\"g\"], MoveSelection[\"b\"]])\n",
    "\n",
    "        current_opponent_move = game_state.other_previous_move\n",
    "        if self.last_opponent_move is not None:\n",
    "            # Record the transition from the previous move to the current move\n",
    "            self.transitions[self.last_opponent_move.name][current_opponent_move.name] += 1\n",
    "        else:\n",
    "            return fallback_choice\n",
    "        \n",
    "        # Predict the opponent's next move based on the current move patterns.\n",
    "        predicted_move = None\n",
    "        if self.transitions[current_opponent_move.name]:\n",
    "            # Pick the move with the highest count following the current move.\n",
    "            predicted_move = max(self.transitions[current_opponent_move.name], key=self.transitions[current_opponent_move.name].get)\n",
    "        \n",
    "        self.last_opponent_move = current_opponent_move\n",
    "\n",
    "        if predicted_move == \"Attack\":\n",
    "            if random.random() < self.risk:\n",
    "                return MoveSelection[\"dp\"]\n",
    "\n",
    "            return MoveSelection[\"b\"]\n",
    "        elif predicted_move == \"Block\":\n",
    "            return MoveSelection[\"g\"]\n",
    "        elif predicted_move == \"Grab\":\n",
    "            if random.random() < self.risk:\n",
    "                return MoveSelection[\"dp\"]\n",
    "            \n",
    "            return MoveSelection[\"a\"]\n",
    "        elif predicted_move == \"Dragon Punch\":\n",
    "            return MoveSelection[\"b\"]\n",
    "\n",
    "        return fallback_choice"
   ]
  },
  {
   "cell_type": "markdown",
   "metadata": {},
   "source": [
    "# Testing"
   ]
  },
  {
   "cell_type": "code",
   "execution_count": null,
   "metadata": {},
   "outputs": [],
   "source": [
    "player1 = BluffMaster()\n",
    "player2 = MarkovChainPlayer()\n",
    "game = Footsies(player1, player2)\n",
    "\n",
    "player1success = 0\n",
    "player2success = 0\n",
    "for i in range(0, 1000):\n",
    "    game = Footsies(player1, player2)\n",
    "    result = game.start()\n",
    "    if result == 1:\n",
    "        player1success += 1\n",
    "    else:\n",
    "        player2success += 1\n",
    "\n",
    "print(player1success, player2success)"
   ]
  }
 ],
 "metadata": {
  "kernelspec": {
   "display_name": ".venv",
   "language": "python",
   "name": "python3"
  },
  "language_info": {
   "codemirror_mode": {
    "name": "ipython",
    "version": 3
   },
   "file_extension": ".py",
   "mimetype": "text/x-python",
   "name": "python",
   "nbconvert_exporter": "python",
   "pygments_lexer": "ipython3",
   "version": "3.11.9"
  }
 },
 "nbformat": 4,
 "nbformat_minor": 2
}
