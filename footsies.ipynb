{
 "cells": [
  {
   "cell_type": "markdown",
   "metadata": {},
   "source": [
    "# Footsies\n",
    "\n",
    "This notebook implements different algorithms as player types for a simple adversarial turn-based game inspired by the fighting game Footsies.\n",
    "\n",
    "The game is implemented in text-based form in the `game.py` file. Players are defined by an abstract class, and all contain an `act()` method that takes as input the current state of the game and outputs a Move."
   ]
  },
  {
   "cell_type": "code",
   "execution_count": null,
   "metadata": {},
   "outputs": [],
   "source": [
    "import math\n",
    "import random\n",
    "from game import Move, State, Player, MoveSelection, Footsies"
   ]
  },
  {
   "cell_type": "markdown",
   "metadata": {},
   "source": [
    "## Manual player\n",
    "\n",
    "First, we define a player type that can be controlled through keyboard input. It also informs the human player of the state of the game in a more detailed way ; Later algorithms are provided the same information."
   ]
  },
  {
   "cell_type": "code",
   "execution_count": null,
   "metadata": {},
   "outputs": [],
   "source": [
    "class ManualPlayer(Player):\n",
    "    name = \"\"\n",
    "    def __init__(self, name: str = \"Manuel\"):\n",
    "        self.name = name\n",
    "    \n",
    "    def act(self, game_state: State) -> Move:\n",
    "        print(f\"Your turn, {self.name}!{f' {game_state.rounds_left} rounds left.' if game_state.rounds_left > -1 else ''}\")\n",
    "        print(f\"You have {game_state.own_blocks} blocks left{' and have landed an attack' if game_state.own_has_attack else ''}.\")\n",
    "        print(f\"Your opponent has {game_state.other_blocks} blocks left{' and has landed an attack' if game_state.other_has_attack else ''}.\")\n",
    "        \n",
    "        move_str = \"\"\n",
    "        while move_str not in MoveSelection:\n",
    "            move_str = input(\"Choose your move: \")\n",
    "\n",
    "        return MoveSelection[move_str]"
   ]
  },
  {
   "cell_type": "markdown",
   "metadata": {},
   "source": [
    "## Random player\n",
    "\n",
    "As a test, and as a way to measure the effectiveness of the different algorithms, we implement a class that selects a move at random."
   ]
  },
  {
   "cell_type": "code",
   "execution_count": null,
   "metadata": {},
   "outputs": [],
   "source": [
    "class RandomPlayer(Player):\n",
    "    name = \"The Chaotic\"\n",
    "\n",
    "    def act(self, game_state: State) -> Move:\n",
    "        return random.choice(list(MoveSelection.values()))"
   ]
  },
  {
   "cell_type": "markdown",
   "metadata": {},
   "source": [
    "## Simple counter strategy\n",
    "\n",
    "Since some specific decisions in the game states are definite wins or losses, we can create a simple algorithm that avoids these bad decisions at all costs, at the risk of predictability."
   ]
  },
  {
   "cell_type": "code",
   "execution_count": null,
   "metadata": {},
   "outputs": [],
   "source": [
    "class CounterPlayer(Player):\n",
    "    name = \"The Simple-Minded\"\n",
    "\n",
    "    def act(self, game_state: State) -> Move:\n",
    "        if game_state.other_has_attack:\n",
    "            return MoveSelection[\"b\"]  # Always block if the opponent has attack power\n",
    "        \n",
    "        if game_state.other_blocks == 0:\n",
    "            return MoveSelection[\"a\"]  # If they can't block, attack them\n",
    "        \n",
    "        if game_state.other_previous_move == None:\n",
    "            return random.choice(list(MoveSelection.values()))\n",
    "\n",
    "        if game_state.other_previous_move == MoveSelection[\"a\"]:\n",
    "            return MoveSelection[\"b\"]  # If they attacked last, block\n",
    "        if game_state.other_previous_move == MoveSelection[\"b\"]:\n",
    "            return MoveSelection[\"g\"]  # If they blocked last, grab\n",
    "        if game_state.other_previous_move == MoveSelection[\"g\"]:\n",
    "            return MoveSelection[\"a\"]  # If they grabbed last, attack"
   ]
  },
  {
   "cell_type": "markdown",
   "metadata": {},
   "source": [
    "## Bayes Inferences"
   ]
  },
  {
   "cell_type": "code",
   "execution_count": null,
   "metadata": {},
   "outputs": [],
   "source": [
    "from collections import defaultdict\n",
    "\n",
    "class BayesianPlayer(Player):\n",
    "    name = \"The Statistician\"\n",
    "\n",
    "    def __init__(self, alpha: float = 1.0, risk_threshold: float = 0.2):\n",
    "        \"\"\"Alpha is the smoothing factor for Bayesian updates. Risk threshold determines when to use Dragon Punch.\"\"\"\n",
    "        self.alpha = alpha\n",
    "        self.risk_threshold = risk_threshold\n",
    "        self.opponent_history = defaultdict(lambda: self.alpha)  # Prior with Laplace smoothing\n",
    "        self.total_moves = self.alpha * len(MoveSelection)  # Initial sum of probabilities\n",
    "\n",
    "    def update_beliefs(self, opponent_move: Move):\n",
    "        \"\"\"Updates the belief distribution based on the opponent's last move.\"\"\"\n",
    "        self.opponent_history[opponent_move] += 1\n",
    "        self.total_moves += 1\n",
    "\n",
    "    def predict_opponent_move(self) -> Move:\n",
    "        \"\"\"Predicts the opponent's next move using Bayesian inference.\"\"\"\n",
    "        probabilities = {move: count / self.total_moves for move, count in self.opponent_history.items()}\n",
    "        return max(probabilities, key=probabilities.get)  # Most probable move\n",
    "\n",
    "    def best_response(self, predicted_move: Move) -> Move:\n",
    "        \"\"\"Chooses the best response to the predicted move, considering Dragon Punch usage.\"\"\"\n",
    "        if predicted_move == MoveSelection[\"a\"]:\n",
    "            return MoveSelection[\"b\"]  # Block an attack\n",
    "        if predicted_move == MoveSelection[\"b\"]:\n",
    "            return MoveSelection[\"g\"]  # Grab a blocker\n",
    "        if predicted_move == MoveSelection[\"g\"]:\n",
    "            return MoveSelection[\"a\"]  # Attack a grabber\n",
    "        \n",
    "        # Introduce Dragon Punch when the opponent is too predictable\n",
    "        highest_prob = max(self.opponent_history.values()) / self.total_moves\n",
    "        if highest_prob >= self.risk_threshold:\n",
    "            return MoveSelection[\"dp\"]  # Risky but rewarding option\n",
    "        \n",
    "        return random.choice(list(MoveSelection.values()))  # Default: mix it up\n",
    "\n",
    "    def act(self, game_state: State) -> Move:\n",
    "        if not game_state.other_previous_move:\n",
    "            return random.choice(list(MoveSelection.values()))\n",
    "        \n",
    "        self.update_beliefs(game_state.other_previous_move)\n",
    "        predicted_move = self.predict_opponent_move()\n",
    "        return self.best_response(predicted_move)"
   ]
  },
  {
   "cell_type": "markdown",
   "metadata": {},
   "source": [
    "## MCTS\n",
    "\n",
    "A Monte Carlo Tree Search relies on simulating the game starting from its current state to determine which decision will lead to the best outcome. This allows for a probabilistic approach that would usually require some reinforcement training."
   ]
  },
  {
   "cell_type": "code",
   "execution_count": null,
   "metadata": {},
   "outputs": [],
   "source": [
    "from collections import defaultdict\n",
    "\n",
    "class MCTSPlayer(Player):\n",
    "    name = \"The Clairvoyant\"\n",
    "\n",
    "    def __init__(self, simulations: int = 100, exploration: float = 1.4):\n",
    "        self.simulations = simulations\n",
    "        self.exploration = exploration\n",
    "        self.wins = defaultdict(int)\n",
    "        self.visits = defaultdict(int)\n",
    "\n",
    "    def simulate(self, move: Move, state: State) -> float:\n",
    "        \"\"\" Runs a short simulation and returns a score (-1, 0, or 1). \"\"\"\n",
    "        p1_blocks, p2_blocks = state.own_blocks, state.other_blocks\n",
    "        p1_attack, p2_attack = state.own_has_attack, state.other_has_attack\n",
    "        rounds_left = state.rounds_left\n",
    "\n",
    "        # First move interaction\n",
    "        opponent_move = random.choice(list(MoveSelection.values()))\n",
    "        result = self.evaluate_move(move, opponent_move, p1_blocks, p2_blocks, p1_attack, p2_attack)\n",
    "        if result != 0: return result  # Immediate win/loss\n",
    "\n",
    "        # Rollout for a few rounds ahead\n",
    "        for _ in range(min(5, rounds_left)):  # Look ahead 3 rounds max\n",
    "            move = random.choice(list(MoveSelection.values()))\n",
    "            opponent_move = random.choice(list(MoveSelection.values()))\n",
    "            result = self.evaluate_move(move, opponent_move, p1_blocks, p2_blocks, p1_attack, p2_attack)\n",
    "            if result != 0:\n",
    "                return result  # Stop if we determine a clear outcome\n",
    "\n",
    "        return 0  # Default to neutral if inconclusive\n",
    "\n",
    "    def evaluate_move(self, move: Move, opponent_move: Move, p1_blocks, p2_blocks, p1_attack, p2_attack):\n",
    "        \"\"\" Determines the outcome of a move interaction. \"\"\"\n",
    "        match (move.value - opponent_move.value):\n",
    "            case 1: p1_blocks -= 1\n",
    "            case -1: p2_blocks -= 1\n",
    "            case 2: return -1\n",
    "            case -2: return 1\n",
    "            case 3: return -1 if p2_attack else 0.5\n",
    "            case -3: return 1 if p1_attack else 0.5\n",
    "            case 6: return -1\n",
    "            case -6: return 1\n",
    "            case _: return 1 if move.value > opponent_move.value else -1\n",
    "\n",
    "        return -1 if p1_blocks <= 0 else (1 if p2_blocks <= 0 else 0)\n",
    "\n",
    "    def act(self, game_state: State) -> Move:\n",
    "        \"\"\" Selects the best move using MCTS with UCB1 exploration. \"\"\"\n",
    "        total_simulations = sum(self.visits.values()) + 1\n",
    "\n",
    "        for _ in range(self.simulations):\n",
    "            move = random.choice(list(MoveSelection.values()))  # Explore all moves\n",
    "            result = self.simulate(move, game_state)\n",
    "            self.wins[move] += result\n",
    "            self.visits[move] += 1\n",
    "\n",
    "        return max(MoveSelection.values(), key=lambda move: self.ucb1(move, total_simulations))\n",
    "\n",
    "    def ucb1(self, move: Move, total_simulations: int) -> float:\n",
    "        \"\"\" UCB1 formula to balance exploration & exploitation. \"\"\"\n",
    "        if self.visits[move] == 0:\n",
    "            return float(\"inf\")  # Always explore unvisited moves\n",
    "        win_rate = self.wins[move] / self.visits[move]\n",
    "        return win_rate + self.exploration * math.sqrt(math.log(total_simulations) / self.visits[move])\n"
   ]
  },
  {
   "cell_type": "markdown",
   "metadata": {},
   "source": [
    "# Testing"
   ]
  },
  {
   "cell_type": "code",
   "execution_count": null,
   "metadata": {},
   "outputs": [],
   "source": [
    "player1 = RandomPlayer()\n",
    "player2 = BayesianPlayer()\n",
    "game = Footsies(player1, player2)\n",
    "\n",
    "player1success = 0\n",
    "player2success = 0\n",
    "for i in range(0, 10000):\n",
    "    game = Footsies(player1, player2)\n",
    "    result = game.start()\n",
    "    if result == 1:\n",
    "        player1success += 1\n",
    "    else:\n",
    "        player2success += 1\n",
    "\n",
    "print(player1success, player2success)"
   ]
  }
 ],
 "metadata": {
  "kernelspec": {
   "display_name": ".venv",
   "language": "python",
   "name": "python3"
  },
  "language_info": {
   "codemirror_mode": {
    "name": "ipython",
    "version": 3
   },
   "file_extension": ".py",
   "mimetype": "text/x-python",
   "name": "python",
   "nbconvert_exporter": "python",
   "pygments_lexer": "ipython3",
   "version": "3.11.9"
  }
 },
 "nbformat": 4,
 "nbformat_minor": 2
}
